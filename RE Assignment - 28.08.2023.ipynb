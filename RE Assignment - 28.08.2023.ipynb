{
 "cells": [
  {
   "cell_type": "code",
   "execution_count": 3,
   "id": "8c7ccc2c",
   "metadata": {},
   "outputs": [],
   "source": [
    "import re"
   ]
  },
  {
   "cell_type": "markdown",
   "id": "4622028c",
   "metadata": {},
   "source": [
    "##### Q 1 - Write a Python program to replace all occurrences of a space, comma, or dot with a colon."
   ]
  },
  {
   "cell_type": "code",
   "execution_count": 45,
   "id": "28b2a1a1",
   "metadata": {},
   "outputs": [
    {
     "name": "stdout",
     "output_type": "stream",
     "text": [
      "Python:Exercises::PHP:exercises:\n"
     ]
    }
   ],
   "source": [
    "txt = \"Python Exercises, PHP exercises.\"\n",
    "print(re.sub(\"[ ,.]\", \":\", txt))"
   ]
  },
  {
   "cell_type": "markdown",
   "id": "c69318d1",
   "metadata": {},
   "source": [
    "##### Q 2 - Write a Python program to find all words starting with 'a' or 'e' in a given string."
   ]
  },
  {
   "cell_type": "code",
   "execution_count": 47,
   "id": "cf898208",
   "metadata": {},
   "outputs": [
    {
     "name": "stdout",
     "output_type": "stream",
     "text": [
      "['all', 'egos', 'and', 'early']\n"
     ]
    }
   ],
   "source": [
    "txt = \"all egos come and go early\"\n",
    "print(re.findall(r\"[ae]\\w+\", txt))"
   ]
  },
  {
   "cell_type": "markdown",
   "id": "a32ecbfb",
   "metadata": {},
   "source": [
    "##### Q 3 - Create a function in python to find all words that are at least 4 characters long in a string (re.compile mandatory)"
   ]
  },
  {
   "cell_type": "code",
   "execution_count": 91,
   "id": "883bddc5",
   "metadata": {},
   "outputs": [
    {
     "name": "stdout",
     "output_type": "stream",
     "text": [
      "['Things', 'cant', 'change', 'easily', 'could']\n"
     ]
    }
   ],
   "source": [
    "txt = re.compile(r\"\\b\\w{4,}\")\n",
    "print(txt.findall(\"Things cant change as easily it could be\"))"
   ]
  },
  {
   "cell_type": "markdown",
   "id": "6ade6a9c",
   "metadata": {},
   "source": [
    "##### Q 4 -Create a function in python to find all three, four, and five character words in a string (re.compile mandatory)"
   ]
  },
  {
   "cell_type": "code",
   "execution_count": 93,
   "id": "e5777476",
   "metadata": {},
   "outputs": [
    {
     "name": "stdout",
     "output_type": "stream",
     "text": [
      "['cant', 'could']\n"
     ]
    }
   ],
   "source": [
    "txt = re.compile(r\"\\b\\w{3,5}\\b\")\n",
    "print(txt.findall(\"Things cant change as easily it could be\"))"
   ]
  },
  {
   "cell_type": "markdown",
   "id": "647178d0",
   "metadata": {},
   "source": [
    "##### Q 5 - Create a function in Python to remove the parenthesis in a list of strings (re.compile mandatory)"
   ]
  },
  {
   "cell_type": "code",
   "execution_count": 26,
   "id": "de06c19c",
   "metadata": {},
   "outputs": [
    {
     "name": "stdout",
     "output_type": "stream",
     "text": [
      "example.com\n",
      "hr@fliprobo.com\n",
      "github.com\n",
      "Hello Data Science World\n",
      "Data Scientist\n"
     ]
    }
   ],
   "source": [
    "app = []\n",
    "app1 = []\n",
    "for a in [\"example (.com)\", \"hr@fliprobo (.com)\", \"github (.com)\", \"Hello (Data Science World)\", \"Data (Scientist)\"] :\n",
    "    b = a.replace(' (',\"\")\n",
    "    app.append(b)\n",
    "for items in app :\n",
    "    comp12 = re.compile(r\"[A-Za-z0-9@ .a-z0-9]+\")\n",
    "    c = (comp12.findall(items))\n",
    "    app1 = app1 + c\n",
    "for final in app1 :\n",
    "    print(re.sub(\"(\\w)([A-Z])\", r\"\\1 \\2\", final))"
   ]
  },
  {
   "cell_type": "markdown",
   "id": "da66fc59",
   "metadata": {},
   "source": [
    "##### Q 6 - Write a python program to remove the parenthesis area from the text stored in the text file using Regular Expression."
   ]
  },
  {
   "cell_type": "code",
   "execution_count": 58,
   "id": "959b388c",
   "metadata": {},
   "outputs": [
    {
     "name": "stdout",
     "output_type": "stream",
     "text": [
      "['example', 'hr@fliprobo', 'github', 'Hello', 'Data']\n"
     ]
    }
   ],
   "source": [
    "remtxt = [\"example (.com)\", \"hr@fliprobo (.com)\", \"github (.com)\", \"Hello (Data Science World)\", \"Data (Scientist)\"]\n",
    "b = []\n",
    "for a in remtxt:\n",
    "    b.append(re.sub(r\" ?\\([^)]+\\)\", \"\", a))\n",
    "print(b)"
   ]
  },
  {
   "cell_type": "markdown",
   "id": "827451be",
   "metadata": {},
   "source": [
    "##### Q 7 - Write a regular expression in Python to split a string into uppercase letters."
   ]
  },
  {
   "cell_type": "code",
   "execution_count": 67,
   "id": "97ce7e9c",
   "metadata": {},
   "outputs": [
    {
     "name": "stdout",
     "output_type": "stream",
     "text": [
      "Importance Of Regular Expressions In Python\n"
     ]
    }
   ],
   "source": [
    "splitupper = 'ImportanceOfRegularExpressionsInPython'\n",
    "print(re.sub(\"(\\w)([A-Z])\", r\"\\1 \\2\", splitupper))"
   ]
  },
  {
   "cell_type": "markdown",
   "id": "91b34a4b",
   "metadata": {},
   "source": [
    "##### Q 8 - Create a function in python to insert spaces between words starting with numbers."
   ]
  },
  {
   "cell_type": "code",
   "execution_count": 71,
   "id": "5d7ee3d4",
   "metadata": {},
   "outputs": [
    {
     "name": "stdout",
     "output_type": "stream",
     "text": [
      "RegularExpression 1IsAn 2ImportantTopic 3InPython\n"
     ]
    }
   ],
   "source": [
    "splitnumb = \"RegularExpression1IsAn2ImportantTopic3InPython\"\n",
    "print(re.sub(r\"(\\w)([0-9])\", r\"\\1 \\2\", splitnumb))"
   ]
  },
  {
   "cell_type": "markdown",
   "id": "d12c6e70",
   "metadata": {},
   "source": [
    "##### Q 9 - Create a function in python to insert spaces between words starting with capital letters or with numbers."
   ]
  },
  {
   "cell_type": "code",
   "execution_count": 86,
   "id": "13da7726",
   "metadata": {},
   "outputs": [
    {
     "name": "stdout",
     "output_type": "stream",
     "text": [
      "Regular Expression 1 Is An 2 Important Topic 3 In Python\n"
     ]
    }
   ],
   "source": [
    "splitUppNum = \"RegularExpression1IsAn2ImportantTopic3InPython\"\n",
    "print(re.sub(r\"(\\w)([A-Z])\", r\"\\1 \\2\", re.sub(r\"(\\w)([0-9])\", r\"\\1 \\2\", splitUppNum)))"
   ]
  },
  {
   "cell_type": "markdown",
   "id": "cb13b5a8",
   "metadata": {},
   "source": [
    "##### Q 10 - Write a python program to extract email address from the text stored in the text file using Regular Expression."
   ]
  },
  {
   "cell_type": "code",
   "execution_count": 174,
   "id": "d9b2b0cf",
   "metadata": {},
   "outputs": [
    {
     "ename": "SyntaxError",
     "evalue": "EOL while scanning string literal (1515042059.py, line 2)",
     "output_type": "error",
     "traceback": [
      "\u001b[1;36m  File \u001b[1;32m\"C:\\Users\\bakul\\AppData\\Local\\Temp\\ipykernel_9344\\1515042059.py\"\u001b[1;36m, line \u001b[1;32m2\u001b[0m\n\u001b[1;33m    a=a + re.findall(r'[\\w\\.]+@[\\w\\.]+',\"Hello my name is Data Science and my email address is xyz@domain.com and alternate email address is xyz.abc@sdomain.domain.com. Please contact us at hr@fliprobo.com for further information.'))\u001b[0m\n\u001b[1;37m                                                                                                                                                                                                                                         ^\u001b[0m\n\u001b[1;31mSyntaxError\u001b[0m\u001b[1;31m:\u001b[0m EOL while scanning string literal\n"
     ]
    }
   ],
   "source": [
    "a = []\n",
    "a=a + re.findall(r'[\\w\\.]+@[\\w\\.]+',\"Hello my name is Data Science and my email address is xyz@domain.com and alternate email address is xyz.abc@sdomain.domain.com. Please contact us at hr@fliprobo.com for further information.'))\n",
    "print(a)"
   ]
  },
  {
   "cell_type": "code",
   "execution_count": 177,
   "id": "985e9c71",
   "metadata": {},
   "outputs": [
    {
     "ename": "SyntaxError",
     "evalue": "EOL while scanning string literal (2671248380.py, line 2)",
     "output_type": "error",
     "traceback": [
      "\u001b[1;36m  File \u001b[1;32m\"C:\\Users\\bakul\\AppData\\Local\\Temp\\ipykernel_9344\\2671248380.py\"\u001b[1;36m, line \u001b[1;32m2\u001b[0m\n\u001b[1;33m    for items in re.split(\"\\s\",\"Hello my name is Data Science and my email address is xyz@domain.com and alternate email address is xyz.abc@sdomain.domain.com. Please contact us at hr@fliprobo.com for further information.'):\u001b[0m\n\u001b[1;37m                                                                                                                                                                                                                                ^\u001b[0m\n\u001b[1;31mSyntaxError\u001b[0m\u001b[1;31m:\u001b[0m EOL while scanning string literal\n"
     ]
    }
   ],
   "source": [
    "strin = recompile(r'[\\w\\.]+@[\\w\\.]+')\n",
    "for items in re.split(\"\\s\",\"Hello my name is Data Science and my email address is xyz@domain.com and alternate email address is xyz.abc@sdomain.domain.com. Please contact us at hr@fliprobo.com for further information.'):\n",
    "                      a = a + re.findall(strin,items)\n",
    "print(a)\n"
   ]
  },
  {
   "cell_type": "markdown",
   "id": "158e216c",
   "metadata": {},
   "source": [
    "#####  Q 11 - Write a Python program to match a string that contains only upper and lowercase letters, numbers, and underscores."
   ]
  },
  {
   "cell_type": "code",
   "execution_count": 103,
   "id": "d5ea47c6",
   "metadata": {},
   "outputs": [
    {
     "name": "stdout",
     "output_type": "stream",
     "text": [
      "Matched\n"
     ]
    }
   ],
   "source": [
    "strtxt = \"Python program to match a string that contains only upper and lowercase letters, numbers, and underscores.\"\n",
    "if re.search('[a-zA-Z0-9_]*$',  strtxt):\n",
    "    print(\"Matched\")\n",
    "else :\n",
    "    print('Try again')"
   ]
  },
  {
   "cell_type": "markdown",
   "id": "3fc67d8f",
   "metadata": {},
   "source": [
    "##### Q 12 - Write a Python program where a string will start with a specific number. "
   ]
  },
  {
   "cell_type": "code",
   "execution_count": 108,
   "id": "a862efb4",
   "metadata": {},
   "outputs": [
    {
     "name": "stdout",
     "output_type": "stream",
     "text": [
      "String starts with 5\n"
     ]
    }
   ],
   "source": [
    "strnum = \"5Python program\"\n",
    "if re.search('^[5]',  strnum):\n",
    "    print(\"String starts with 5\")\n",
    "else :\n",
    "    print('Try again')"
   ]
  },
  {
   "cell_type": "markdown",
   "id": "a1cf411b",
   "metadata": {},
   "source": [
    "##### Q 13 - Write a Python program to remove leading zeros from an IP address"
   ]
  },
  {
   "cell_type": "code",
   "execution_count": 112,
   "id": "1ff04cb7",
   "metadata": {},
   "outputs": [
    {
     "name": "stdout",
     "output_type": "stream",
     "text": [
      "010.8.90.26\n"
     ]
    }
   ],
   "source": [
    "removezeros = \"010.008.090.026\"\n",
    "print(re.sub('\\.[0]*', '.', removezeros))"
   ]
  },
  {
   "cell_type": "markdown",
   "id": "695ea826",
   "metadata": {},
   "source": [
    "##### Q 14 - Write a regular expression in python to match a date string in the form of Month name followed by day number and year stored in a text file."
   ]
  },
  {
   "cell_type": "code",
   "execution_count": 9,
   "id": "394b2fc4",
   "metadata": {},
   "outputs": [
    {
     "name": "stdout",
     "output_type": "stream",
     "text": [
      "None\n"
     ]
    }
   ],
   "source": [
    "smdt = \"On August 15th 1947 that India was declared independent from British colonialism, and the reins of control were handed over to the leaders of the Country\"\n",
    "month = re.search(\"(?P<fmonth>\\w+.\\d+)\\s+\\-\\s+(?P<smonth>\\w+.\\d+)\", smdt)\n",
    "print (month)"
   ]
  },
  {
   "cell_type": "markdown",
   "id": "1c6f09c7",
   "metadata": {},
   "source": [
    "##### Q 15 - Write a Python program to search some literals strings in a string."
   ]
  },
  {
   "cell_type": "code",
   "execution_count": 40,
   "id": "e34571df",
   "metadata": {},
   "outputs": [
    {
     "name": "stdout",
     "output_type": "stream",
     "text": [
      "fox found\n",
      "dog found\n",
      "horse Not found\n"
     ]
    }
   ],
   "source": [
    "literalstring = ['fox','dog','horse']\n",
    "text = 'The quick brown fox jumps over the lazy dog.'\n",
    "for a in literalstring:\n",
    "    if re.search(a,text):\n",
    "        print(a, 'found')\n",
    "    else:\n",
    "        print(a, 'Not found')"
   ]
  },
  {
   "cell_type": "markdown",
   "id": "a485afce",
   "metadata": {},
   "source": [
    "##### Q 16 - Write a Python program to search a literals string in a string and also find the location within the original string where the pattern occurs"
   ]
  },
  {
   "cell_type": "code",
   "execution_count": 54,
   "id": "604a51b0",
   "metadata": {},
   "outputs": [
    {
     "name": "stdout",
     "output_type": "stream",
     "text": [
      "fox found at location :  16 19\n",
      "dog found at location :  40 43\n"
     ]
    }
   ],
   "source": [
    "string = ['fox','dog']\n",
    "text = 'The quick brown fox jumps over the lazy dog.'\n",
    "for a in string:\n",
    "    b = re.search(a,text)\n",
    "    loc1 = b.start()\n",
    "    loc2 = b.end()\n",
    "    print(a, 'found at location : ',loc1,loc2)"
   ]
  },
  {
   "cell_type": "markdown",
   "id": "3b06491b",
   "metadata": {},
   "source": [
    "##### Q 17 - Write a Python program to find the substrings within a string."
   ]
  },
  {
   "cell_type": "code",
   "execution_count": 63,
   "id": "875bd464",
   "metadata": {},
   "outputs": [
    {
     "name": "stdout",
     "output_type": "stream",
     "text": [
      "exercises found\n"
     ]
    }
   ],
   "source": [
    "string = 'Python exercises, PHP exercises, C# exercises'\n",
    "ss = 'exercises'\n",
    "re.search(ss,string)\n",
    "print(ss, 'found')"
   ]
  },
  {
   "cell_type": "markdown",
   "id": "92455e9c",
   "metadata": {},
   "source": [
    "##### Q 18 - Write a Python program to find the occurrence and position of the substrings within a string."
   ]
  },
  {
   "cell_type": "code",
   "execution_count": 15,
   "id": "b3bc4e36",
   "metadata": {},
   "outputs": [
    {
     "name": "stdout",
     "output_type": "stream",
     "text": [
      "exercises found at location 7 16\n",
      "exercises found at location 22 31\n",
      "exercises found at location 36 45\n"
     ]
    }
   ],
   "source": [
    "strings = 'Python exercises, PHP exercises, C# exercises'\n",
    "ss = 'exercises'\n",
    "for subst in re.finditer(ss, strings):\n",
    "    loc1 = subst.start()\n",
    "    loc2 = subst.end()\n",
    "    print(ss, 'found at location',loc1,loc2)"
   ]
  },
  {
   "cell_type": "markdown",
   "id": "fe12d404",
   "metadata": {},
   "source": [
    "##### Q 19 - Write a Python program to convert a date of yyyy-mm-dd format to dd-mm-yyyy format."
   ]
  },
  {
   "cell_type": "code",
   "execution_count": 7,
   "id": "1930747c",
   "metadata": {},
   "outputs": [
    {
     "name": "stdout",
     "output_type": "stream",
     "text": [
      "Date format changed from: 2023-03-24 to: 24-03-2023\n"
     ]
    }
   ],
   "source": [
    "date = \"2023-03-24\"\n",
    "print(\"Date format changed from:\",date,\"to:\", re.sub(r\"(\\d{4})-(\\d{2})-(\\d{2})\",\"\\\\3-\\\\2-\\\\1\",date))"
   ]
  },
  {
   "cell_type": "markdown",
   "id": "035c870d",
   "metadata": {},
   "source": [
    "##### Q 20 - Create a function in python to find all decimal numbers with a precision of 1 or 2 in a string (re.compile Mandatory)"
   ]
  },
  {
   "cell_type": "code",
   "execution_count": 36,
   "id": "7ba216a4",
   "metadata": {},
   "outputs": [
    {
     "name": "stdout",
     "output_type": "stream",
     "text": [
      "['01.12', '145.8', '3.01', '27.25', '0.25']\n"
     ]
    }
   ],
   "source": [
    "stri = re.compile(r\"^[0-9]+\\.[0-9]{1,2}?$\")\n",
    "a = []\n",
    "for items in re.split(\"\\s\",\"01.12 0132.123 2.31875 145.8 3.01 27.25 0.25\"):\n",
    "    a = a + re.findall(stri,items)\n",
    "print(a)"
   ]
  },
  {
   "cell_type": "markdown",
   "id": "ca680ae6",
   "metadata": {},
   "source": [
    "##### Q 21 - Write a Python program to separate and print the numbers and their position of a given string."
   ]
  },
  {
   "cell_type": "code",
   "execution_count": 43,
   "id": "b0ac3aa3",
   "metadata": {},
   "outputs": [
    {
     "name": "stdout",
     "output_type": "stream",
     "text": [
      "60  - Index position: 7 : 9\n",
      "07  - Index position: 19 : 21\n"
     ]
    }
   ],
   "source": [
    "text = 'Out of 60 students 07 students didnt succeed in examination.'\n",
    "for item in re.finditer(\"\\d+\", text):\n",
    "    print(item.group(0), \" - Index position:\", item.start(),\":\", item.end())"
   ]
  },
  {
   "cell_type": "markdown",
   "id": "6b0354df",
   "metadata": {},
   "source": [
    "##### Q 22 - Write a regular expression in python program to extract maximum/largest numeric value from a string."
   ]
  },
  {
   "cell_type": "code",
   "execution_count": 159,
   "id": "f408973f",
   "metadata": {},
   "outputs": [
    {
     "name": "stdout",
     "output_type": "stream",
     "text": [
      "950\n"
     ]
    }
   ],
   "source": [
    "txt = 'My marks in each semester are: 947, 896, 926, 524, 734, 950, 642'\n",
    "number = re.findall('\\d+',txt)\n",
    "print (max(number))"
   ]
  },
  {
   "cell_type": "markdown",
   "id": "de3eda93",
   "metadata": {},
   "source": [
    "##### Q 23 - Create a function in python to insert spaces between words starting with capital letters."
   ]
  },
  {
   "cell_type": "code",
   "execution_count": 65,
   "id": "de14f63e",
   "metadata": {},
   "outputs": [
    {
     "name": "stdout",
     "output_type": "stream",
     "text": [
      "Regular Expression Is An Important Topic In Python\n"
     ]
    }
   ],
   "source": [
    "splitupper = 'RegularExpressionIsAnImportantTopicInPython'\n",
    "print(re.sub(\"(\\w)([A-Z])\", r\"\\1 \\2\", splitupper))"
   ]
  },
  {
   "cell_type": "markdown",
   "id": "5c1cde98",
   "metadata": {},
   "source": [
    "##### Q 24 - Python regex to find sequences of one upper case letter followed by lower case letters."
   ]
  },
  {
   "cell_type": "code",
   "execution_count": 11,
   "id": "ae9e03b8",
   "metadata": {},
   "outputs": [
    {
     "name": "stdout",
     "output_type": "stream",
     "text": [
      "Found a match!\n"
     ]
    }
   ],
   "source": [
    "txt = \"Work are to be Completed by the Day\"\n",
    "if re.search('[A-Z]+[a-z]+$', txt):\n",
    "    print('Found a match!')\n",
    "else:\n",
    "    print('Not matched!')\n"
   ]
  },
  {
   "cell_type": "markdown",
   "id": "00f1d6ac",
   "metadata": {},
   "source": [
    "##### Q 25 - Write a Python program to remove continuous duplicate words from Sentence using Regular Expression."
   ]
  },
  {
   "cell_type": "code",
   "execution_count": 17,
   "id": "572c211f",
   "metadata": {},
   "outputs": [
    {
     "name": "stdout",
     "output_type": "stream",
     "text": [
      "Non Duplicate String :  ['Hello', 'hello', 'world']\n"
     ]
    }
   ],
   "source": [
    "txt = \"Hello hello world world\"\n",
    "l = txt.split()\n",
    "a = []\n",
    "for x in l:\n",
    "    if x not in a:\n",
    "        a.append(x)\n",
    "print(\"Non Duplicate String : \",a)"
   ]
  },
  {
   "cell_type": "markdown",
   "id": "cbf476cc",
   "metadata": {},
   "source": [
    "##### Q 26 - Write a python program using RegEx to accept string ending with alphanumeric character."
   ]
  },
  {
   "cell_type": "code",
   "execution_count": 100,
   "id": "f08e70cd",
   "metadata": {},
   "outputs": [
    {
     "name": "stdout",
     "output_type": "stream",
     "text": [
      "Match Not found\n",
      "Match Found\n"
     ]
    }
   ],
   "source": [
    "text1 = 'DataTrained_'\n",
    "if re.search(\"[a-zA-Z0-9]+$\",text1):\n",
    "    print(\"Match Found\")\n",
    "else:\n",
    "    print(\"Match Not found\")\n",
    "    \n",
    "text2 = 'DataTrained022023'\n",
    "if re.search(\"[a-zA-Z0-9]+$\",text2):\n",
    "    print(\"Match Found\")\n",
    "else:\n",
    "    print(\"Match Not found\")"
   ]
  },
  {
   "cell_type": "markdown",
   "id": "ab8da81d",
   "metadata": {},
   "source": [
    "##### Q 27 - Write a python program using RegEx to extract the hashtags."
   ]
  },
  {
   "cell_type": "code",
   "execution_count": 77,
   "id": "adb576cb",
   "metadata": {},
   "outputs": [
    {
     "name": "stdout",
     "output_type": "stream",
     "text": [
      "['#Doltiwal', '#xyzabc', '#Demonetization']\n"
     ]
    }
   ],
   "source": [
    "txt = \"RT @kapil_kausik: #Doltiwal I mean #xyzabc is 'hurt' by #Demonetization as the same has rendered USELESS <ed><U+00A0><U+00BD><ed><U+00B1><U+0089> 'acquired funds' No wo\"\"\"\n",
    "a = []\n",
    "a = a + (re.findall(r\"#\\S+\", txt))\n",
    "print(a)"
   ]
  },
  {
   "cell_type": "markdown",
   "id": "fbf52bc5",
   "metadata": {},
   "source": [
    "##### Q 28 - Write a python program using RegEx to remove <U+..> like symbols."
   ]
  },
  {
   "cell_type": "code",
   "execution_count": 138,
   "id": "2444672b",
   "metadata": {},
   "outputs": [
    {
     "data": {
      "text/plain": [
       "'RT @kapil_kausik: #Doltiwal I mean #xyzabc is \"hurt\" by #Demonetization as the same has rendered USELESS <ed><ed> \"acquired funds\" No wo'"
      ]
     },
     "execution_count": 138,
     "metadata": {},
     "output_type": "execute_result"
    }
   ],
   "source": [
    "txt1 = \"\"\"RT @kapil_kausik: #Doltiwal I mean #xyzabc is \"hurt\" by #Demonetization as the same has rendered USELESS <ed><U+00A0><U+00BD><ed><U+00B1><U+0089> \"acquired funds\" No wo\"\"\"\n",
    "a = re.sub(\"><U+\\\\S\\\\w\\\\d[A-Z]\\\\S\", \"\", txt1)\n",
    "re.sub(\"><U+\\\\S\\\\d+\", \"\", a)"
   ]
  },
  {
   "cell_type": "markdown",
   "id": "34edcfa0",
   "metadata": {},
   "source": [
    "##### Q 29 - Write a python program to extract dates from the text stored in the text file."
   ]
  },
  {
   "cell_type": "code",
   "execution_count": 155,
   "id": "95dd4985",
   "metadata": {},
   "outputs": [
    {
     "data": {
      "text/plain": [
       "['12-09-1992', '15-12-1999']"
      ]
     },
     "execution_count": 155,
     "metadata": {},
     "output_type": "execute_result"
    }
   ],
   "source": [
    "sample_text = \"Ron was born on 12-09-1992 and he was admitted to school 15-12-1999.\"\n",
    "re.findall(r\"(\\d{2}-\\d{2}-\\d{4})\",sample_text)"
   ]
  },
  {
   "cell_type": "markdown",
   "id": "1f430b19",
   "metadata": {},
   "source": [
    "##### Q 30 - Create a function in python to remove all words from a string of length between 2 and 4 (re.complie Mandatory)"
   ]
  },
  {
   "cell_type": "code",
   "execution_count": 164,
   "id": "d0e02f78",
   "metadata": {},
   "outputs": [
    {
     "name": "stdout",
     "output_type": "stream",
     "text": [
      "Things  change  easily  could \n"
     ]
    }
   ],
   "source": [
    "txt = re.compile(r\"\\b\\w{2,4}\\b\")\n",
    "print(re.sub(txt,\"\",\"Things cant change as easily it could be\"))"
   ]
  }
 ],
 "metadata": {
  "kernelspec": {
   "display_name": "Python 3 (ipykernel)",
   "language": "python",
   "name": "python3"
  },
  "language_info": {
   "codemirror_mode": {
    "name": "ipython",
    "version": 3
   },
   "file_extension": ".py",
   "mimetype": "text/x-python",
   "name": "python",
   "nbconvert_exporter": "python",
   "pygments_lexer": "ipython3",
   "version": "3.9.13"
  }
 },
 "nbformat": 4,
 "nbformat_minor": 5
}
